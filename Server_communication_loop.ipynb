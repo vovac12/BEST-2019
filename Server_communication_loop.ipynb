{
 "cells": [
  {
   "cell_type": "code",
   "execution_count": 169,
   "metadata": {
    "colab": {
     "base_uri": "https://localhost:8080/",
     "height": 34
    },
    "colab_type": "code",
    "id": "VrY5_QOh3hCe",
    "outputId": "289bd689-9eab-48dd-ba74-e908cbd3595f"
   },
   "outputs": [],
   "source": [
    "import pandas as pd\n",
    "import numpy as np\n",
    "import json\n",
    "import scipy\n",
    "import getpass\n",
    "import socket\n",
    "import random\n",
    "import math"
   ]
  },
  {
   "cell_type": "code",
   "execution_count": 46,
   "metadata": {
    "colab": {},
    "colab_type": "code",
    "id": "D3U_tSWf4SOx"
   },
   "outputs": [
    {
     "name": "stdout",
     "output_type": "stream",
     "text": [
      "TEAM_KEY: ········\n"
     ]
    }
   ],
   "source": [
    "TEAM_KEY = getpass.getpass(\"TEAM_KEY: \")"
   ]
  },
  {
   "cell_type": "code",
   "execution_count": 157,
   "metadata": {
    "colab": {},
    "colab_type": "code",
    "id": "hE6W51G25AAr"
   },
   "outputs": [],
   "source": [
    "def bytelen(obj):  \n",
    "    if type(obj) == str:\n",
    "        obj = obj.encode()\n",
    "    size = len(bytes(obj))\n",
    "    return bytes((size % (256 ** i) // 256**(i-1) for i in range(1, 5)))\n",
    "\n",
    "def byte_count(x):\n",
    "    x = list(x)\n",
    "    return sum((x[i] * 256**i for i in range(len(x))))\n",
    "\n",
    "def connect_to_server(url, port):\n",
    "    sock = socket.socket()\n",
    "    sock.connect((url, port))\n",
    "    return sock\n",
    "\n",
    "def send_bytes(sock, data):\n",
    "    if type(data) == str:\n",
    "        data = data.encode()\n",
    "    data = bytes(data)\n",
    "    return sock.send(bytelen(data) + data)\n",
    "\n",
    "def recv_data(sock):\n",
    "    l = sock.recv(4)\n",
    "    l = byte_count(l)\n",
    "    res = []\n",
    "    cnt = 0\n",
    "    #print(l)\n",
    "    while cnt < l:\n",
    "        tmp = list(sock.recv(1000000 if l - cnt > 1000000 else l - cnt))\n",
    "        cnt += len(tmp)\n",
    "        res.extend(tmp)\n",
    "    #print(cnt)\n",
    "    return bytes(res)\n",
    "\n",
    "\n",
    "def dict_to_bytes(data):\n",
    "    return json.dumps(data)\n",
    "\n",
    "def send_result(sock, x, y, ready):\n",
    "    data = {\"x\": x, \"y\":y, \"ready\": ready}\n",
    "    return send_bytes(sock, dict_to_bytes(data))\n",
    "\n",
    "def get_map(sock):\n",
    "    return json.loads(recv_data(sock))"
   ]
  },
  {
   "cell_type": "code",
   "execution_count": null,
   "metadata": {},
   "outputs": [],
   "source": [
    "hello_content = json.dumps({'team': TEAM_KEY, 'task': 1}).encode()\n",
    "TIME_OUT = 10"
   ]
  },
  {
   "cell_type": "code",
   "execution_count": 179,
   "metadata": {},
   "outputs": [
    {
     "ename": "gaierror",
     "evalue": "[Errno -2] Name or service not known",
     "output_type": "error",
     "traceback": [
      "\u001b[0;31m---------------------------------------------------------------------------\u001b[0m",
      "\u001b[0;31mgaierror\u001b[0m                                  Traceback (most recent call last)",
      "\u001b[0;32m<ipython-input-179-a7b04eaa53bb>\u001b[0m in \u001b[0;36m<module>\u001b[0;34m\u001b[0m\n\u001b[1;32m      1\u001b[0m \u001b[0;31m#Communication loop\u001b[0m\u001b[0;34m\u001b[0m\u001b[0;34m\u001b[0m\u001b[0m\n\u001b[0;32m----> 2\u001b[0;31m \u001b[0msock\u001b[0m \u001b[0;34m=\u001b[0m \u001b[0mconnect_to_server\u001b[0m\u001b[0;34m(\u001b[0m\u001b[0;34m\"besthack19.sytes.net\"\u001b[0m\u001b[0;34m,\u001b[0m \u001b[0;36m4242\u001b[0m\u001b[0;34m)\u001b[0m\u001b[0;34m\u001b[0m\u001b[0m\n\u001b[0m\u001b[1;32m      3\u001b[0m \u001b[0msock\u001b[0m\u001b[0;34m.\u001b[0m\u001b[0msettimeout\u001b[0m\u001b[0;34m(\u001b[0m\u001b[0mTIME_OUT\u001b[0m\u001b[0;34m)\u001b[0m\u001b[0;34m\u001b[0m\u001b[0m\n\u001b[1;32m      4\u001b[0m \u001b[0msend_bytes\u001b[0m\u001b[0;34m(\u001b[0m\u001b[0msock\u001b[0m\u001b[0;34m,\u001b[0m \u001b[0mhello_content\u001b[0m\u001b[0;34m)\u001b[0m\u001b[0;34m\u001b[0m\u001b[0m\n\u001b[1;32m      5\u001b[0m \u001b[0mlandMap\u001b[0m \u001b[0;34m=\u001b[0m \u001b[0mget_map\u001b[0m\u001b[0;34m(\u001b[0m\u001b[0msock\u001b[0m\u001b[0;34m)\u001b[0m\u001b[0;34m\u001b[0m\u001b[0m\n",
      "\u001b[0;32m<ipython-input-157-cde42002171b>\u001b[0m in \u001b[0;36mconnect_to_server\u001b[0;34m(url, port)\u001b[0m\n\u001b[1;32m     11\u001b[0m \u001b[0;32mdef\u001b[0m \u001b[0mconnect_to_server\u001b[0m\u001b[0;34m(\u001b[0m\u001b[0murl\u001b[0m\u001b[0;34m,\u001b[0m \u001b[0mport\u001b[0m\u001b[0;34m)\u001b[0m\u001b[0;34m:\u001b[0m\u001b[0;34m\u001b[0m\u001b[0m\n\u001b[1;32m     12\u001b[0m     \u001b[0msock\u001b[0m \u001b[0;34m=\u001b[0m \u001b[0msocket\u001b[0m\u001b[0;34m.\u001b[0m\u001b[0msocket\u001b[0m\u001b[0;34m(\u001b[0m\u001b[0;34m)\u001b[0m\u001b[0;34m\u001b[0m\u001b[0m\n\u001b[0;32m---> 13\u001b[0;31m     \u001b[0msock\u001b[0m\u001b[0;34m.\u001b[0m\u001b[0mconnect\u001b[0m\u001b[0;34m(\u001b[0m\u001b[0;34m(\u001b[0m\u001b[0murl\u001b[0m\u001b[0;34m,\u001b[0m \u001b[0mport\u001b[0m\u001b[0;34m)\u001b[0m\u001b[0;34m)\u001b[0m\u001b[0;34m\u001b[0m\u001b[0m\n\u001b[0m\u001b[1;32m     14\u001b[0m     \u001b[0;32mreturn\u001b[0m \u001b[0msock\u001b[0m\u001b[0;34m\u001b[0m\u001b[0m\n\u001b[1;32m     15\u001b[0m \u001b[0;34m\u001b[0m\u001b[0m\n",
      "\u001b[0;31mgaierror\u001b[0m: [Errno -2] Name or service not known"
     ]
    }
   ],
   "source": [
    "#Communication loop\n",
    "sock = connect_to_server(\"besthack19.sytes.net\", 4242)\n",
    "sock.settimeout(TIME_OUT)\n",
    "send_bytes(sock, hello_content)\n",
    "landMap = get_map(sock)\n",
    "mapLen = int(math.sqrt(len(landMap)))\n",
    "if landMap.get('error'):\n",
    "    print(\"ERROR: \", landMap[\"error\"])\n",
    "    exit()\n",
    "landMap = landMap[\"map\"]\n",
    "while (True):\n",
    "    toJson = recv_data(sock)\n",
    "    data = json.loads(toJson.decode())\n",
    "    if data.get('error'):\n",
    "        print(\"ERROR: \", data[\"error\"])\n",
    "        break\n",
    "    if data.get('scores'):\n",
    "        print(\"SCORE \",data['scores'])\n",
    "        break\n",
    "    send_result(sock, data['data']['x'] + 100, data['data']['y'] + 100, 1)"
   ]
  },
  {
   "cell_type": "code",
   "execution_count": null,
   "metadata": {},
   "outputs": [],
   "source": []
  },
  {
   "cell_type": "code",
   "execution_count": null,
   "metadata": {},
   "outputs": [],
   "source": []
  },
  {
   "cell_type": "code",
   "execution_count": null,
   "metadata": {},
   "outputs": [],
   "source": []
  }
 ],
 "metadata": {
  "colab": {
   "collapsed_sections": [],
   "name": "[BEST2019]Baseline and experiments",
   "provenance": [],
   "version": "0.3.2"
  },
  "kernelspec": {
   "display_name": "Python 3",
   "language": "python",
   "name": "python3"
  },
  "language_info": {
   "codemirror_mode": {
    "name": "ipython",
    "version": 3
   },
   "file_extension": ".py",
   "mimetype": "text/x-python",
   "name": "python",
   "nbconvert_exporter": "python",
   "pygments_lexer": "ipython3",
   "version": "3.6.4"
  }
 },
 "nbformat": 4,
 "nbformat_minor": 1
}
