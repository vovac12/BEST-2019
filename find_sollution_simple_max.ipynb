{
 "cells": [
  {
   "cell_type": "code",
   "execution_count": 155,
   "metadata": {},
   "outputs": [],
   "source": [
    "from matplotlib import pyplot as plt\n",
    "import seaborn\n",
    "import json\n",
    "import socket\n",
    "import numpy as np\n",
    "import math"
   ]
  },
  {
   "cell_type": "code",
   "execution_count": 156,
   "metadata": {},
   "outputs": [],
   "source": [
    "def recv_data(sock):\n",
    "    if type(sock) == socket.socket:\n",
    "        reader = sock.recv\n",
    "        buff = 1000000\n",
    "    else:\n",
    "        reader = sock.read\n",
    "        buff = 100000\n",
    "    l = reader(4)\n",
    "    l = byte_count(l)\n",
    "    res = []\n",
    "    cnt = 0\n",
    "    while cnt < l:\n",
    "        tmp = list(reader(buff if l - cnt > buff else l - cnt))\n",
    "        cnt += len(tmp)\n",
    "        res.extend(tmp)\n",
    "    res = bytes(res)\n",
    "    if not res:\n",
    "        return None\n",
    "    return json.loads(res)\n",
    "\n"
   ]
  },
  {
   "cell_type": "code",
   "execution_count": 157,
   "metadata": {},
   "outputs": [],
   "source": [
    "FILE_NAME = '/home/max/Загрузки/besthack19/task1'"
   ]
  },
  {
   "cell_type": "code",
   "execution_count": 158,
   "metadata": {},
   "outputs": [],
   "source": [
    "conn = open(FILE_NAME, 'rb')"
   ]
  },
  {
   "cell_type": "code",
   "execution_count": 159,
   "metadata": {},
   "outputs": [
    {
     "name": "stdout",
     "output_type": "stream",
     "text": [
      "1705\n"
     ]
    }
   ],
   "source": [
    "msg_map = recv_data(conn)\n",
    "sense = []\n",
    "while True:\n",
    "    tmp = recv_data(conn)\n",
    "    if not tmp:\n",
    "        break\n",
    "    sense.append(tmp['data'] if 'data' in tmp else tmp)\n",
    "print(len(sense))"
   ]
  },
  {
   "cell_type": "code",
   "execution_count": 202,
   "metadata": {},
   "outputs": [
    {
     "data": {
      "text/plain": [
       "array([[1, 0, 0, 1, 0, 1, 1, 1, 0],\n",
       "       [0, 0, 0, 0, 0, 1, 0, 1, 1],\n",
       "       [1, 1, 1, 1, 0, 1, 1, 1, 1]])"
      ]
     },
     "execution_count": 202,
     "metadata": {},
     "output_type": "execute_result"
    }
   ],
   "source": [
    "landMap = np.random.randint(0, 2, (3, 9))\n",
    "landMap"
   ]
  },
  {
   "cell_type": "code",
   "execution_count": 169,
   "metadata": {},
   "outputs": [
    {
     "data": {
      "text/plain": [
       "array([[0.],\n",
       "       [0.]])"
      ]
     },
     "execution_count": 169,
     "metadata": {},
     "output_type": "execute_result"
    }
   ],
   "source": [
    "newHeight = np.full(9, 50)\n",
    "newHeight"
   ]
  },
  {
   "cell_type": "code",
   "execution_count": 162,
   "metadata": {},
   "outputs": [
    {
     "data": {
      "text/plain": [
       "array([[ 10, -45,  27, -37, -18,  -8,  22, -49,  33],\n",
       "       [ 87,  81,   7,  13,  22,  27,  91,  68,  42],\n",
       "       [ 28,  41,  14,  15,  88,  16,  41,  45,  88]])"
      ]
     },
     "execution_count": 162,
     "metadata": {},
     "output_type": "execute_result"
    }
   ],
   "source": [
    "height = np.vstack([landMap[:1] - newHeight, landMap[1:]])\n",
    "height"
   ]
  },
  {
   "cell_type": "code",
   "execution_count": 215,
   "metadata": {},
   "outputs": [],
   "source": [
    "def find_sollution(landMap, heights, currentData):\n",
    "    if (heights == None):\n",
    "        #print(landMap[:1] - np.full(landMap[0].size, currentData['height']))\n",
    "        heights = np.vstack([abs(landMap[:1] - np.full(landMap[0].size, currentData['height'])), landMap[1:]])\n",
    "    else:\n",
    "        heights -= np.vstack([np.full(heights[0].size, currentData['height']), np.zeros(2, heights[0].size)])\n",
    "    heigths = heights.T[heights[0].argsort()].T[:5]\n",
    "    res = (heights[1][0], heights[2][0])\n",
    "    \n",
    "    heights[1:2] += int(currentData['speed'] * math.cos(currentData['psi']))\n",
    "    heights[2:] += int(currentData['speed'] * math.sin(currentData['psi']))\n",
    "    edge = int(math.sqrt(landMap[0][1]))\n",
    "    for i in range(len(heights[0])):\n",
    "        heights[0][i] = landMap[0][heights[1][i] + heights[2][i] * edge]\n",
    "    return (res, heights)\n",
    "    "
   ]
  },
  {
   "cell_type": "code",
   "execution_count": 216,
   "metadata": {},
   "outputs": [],
   "source": [
    "currentData = {\"height\":14, \"speed\":1, \"psi\":90}"
   ]
  },
  {
   "cell_type": "code",
   "execution_count": 217,
   "metadata": {},
   "outputs": [
    {
     "data": {
      "text/plain": [
       "((0, 1), array([[1, 1, 1, 1, 1, 0, 1, 0, 0],\n",
       "        [0, 0, 0, 0, 0, 1, 0, 1, 1],\n",
       "        [1, 1, 1, 1, 0, 1, 1, 1, 1]]))"
      ]
     },
     "execution_count": 217,
     "metadata": {},
     "output_type": "execute_result"
    }
   ],
   "source": [
    "find_sollution(landMap, None, currentData)"
   ]
  },
  {
   "cell_type": "code",
   "execution_count": null,
   "metadata": {},
   "outputs": [],
   "source": []
  }
 ],
 "metadata": {
  "kernelspec": {
   "display_name": "Python 3",
   "language": "python",
   "name": "python3"
  },
  "language_info": {
   "codemirror_mode": {
    "name": "ipython",
    "version": 3
   },
   "file_extension": ".py",
   "mimetype": "text/x-python",
   "name": "python",
   "nbconvert_exporter": "python",
   "pygments_lexer": "ipython3",
   "version": "3.6.4"
  }
 },
 "nbformat": 4,
 "nbformat_minor": 2
}
